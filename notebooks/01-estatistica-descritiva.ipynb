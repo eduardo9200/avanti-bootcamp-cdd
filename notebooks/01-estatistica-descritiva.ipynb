{
 "cells": [
  {
   "cell_type": "markdown",
   "metadata": {},
   "source": [
    "# 1. Análise exploratória de dados"
   ]
  },
  {
   "cell_type": "code",
   "execution_count": 49,
   "metadata": {},
   "outputs": [],
   "source": [
    "import pandas as pd\n",
    "import seaborn as sns"
   ]
  },
  {
   "cell_type": "markdown",
   "metadata": {},
   "source": [
    "# 1.1. Conjuntos de dados"
   ]
  },
  {
   "cell_type": "code",
   "execution_count": 55,
   "metadata": {},
   "outputs": [],
   "source": [
    "df_tips = sns.load_dataset('tips')\n",
    "df_titanic = sns.load_dataset('titanic')"
   ]
  },
  {
   "cell_type": "markdown",
   "metadata": {},
   "source": [
    "## 1.2. Dicionário de dados"
   ]
  },
  {
   "cell_type": "markdown",
   "metadata": {},
   "source": [
    "### 1.2.1. Tips"
   ]
  },
  {
   "cell_type": "code",
   "execution_count": 53,
   "metadata": {},
   "outputs": [
    {
     "data": {
      "text/html": [
       "<div>\n",
       "<style scoped>\n",
       "    .dataframe tbody tr th:only-of-type {\n",
       "        vertical-align: middle;\n",
       "    }\n",
       "\n",
       "    .dataframe tbody tr th {\n",
       "        vertical-align: top;\n",
       "    }\n",
       "\n",
       "    .dataframe thead th {\n",
       "        text-align: right;\n",
       "    }\n",
       "</style>\n",
       "<table border=\"1\" class=\"dataframe\">\n",
       "  <thead>\n",
       "    <tr style=\"text-align: right;\">\n",
       "      <th></th>\n",
       "      <th>variavel</th>\n",
       "      <th>descricao</th>\n",
       "      <th>tipo</th>\n",
       "      <th>subtipo</th>\n",
       "    </tr>\n",
       "  </thead>\n",
       "  <tbody>\n",
       "    <tr>\n",
       "      <th>0</th>\n",
       "      <td>total_bill</td>\n",
       "      <td>Valor da compra em unidades monetárias</td>\n",
       "      <td>quantitativa</td>\n",
       "      <td>continua</td>\n",
       "    </tr>\n",
       "    <tr>\n",
       "      <th>1</th>\n",
       "      <td>tip</td>\n",
       "      <td>Valor da gorjeta em unidades monetárias</td>\n",
       "      <td>quantitativa</td>\n",
       "      <td>continua</td>\n",
       "    </tr>\n",
       "    <tr>\n",
       "      <th>2</th>\n",
       "      <td>sex</td>\n",
       "      <td>Sexo da pessoa ('Male', 'Female')</td>\n",
       "      <td>qualitativa</td>\n",
       "      <td>nominal</td>\n",
       "    </tr>\n",
       "    <tr>\n",
       "      <th>3</th>\n",
       "      <td>day</td>\n",
       "      <td>Dias da semana ('Thur', 'Fri', 'Sat', 'Sun')</td>\n",
       "      <td>qualitativa</td>\n",
       "      <td>nominal</td>\n",
       "    </tr>\n",
       "  </tbody>\n",
       "</table>\n",
       "</div>"
      ],
      "text/plain": [
       "     variavel                                     descricao          tipo  \\\n",
       "0  total_bill        Valor da compra em unidades monetárias  quantitativa   \n",
       "1         tip       Valor da gorjeta em unidades monetárias  quantitativa   \n",
       "2         sex             Sexo da pessoa ('Male', 'Female')   qualitativa   \n",
       "3         day  Dias da semana ('Thur', 'Fri', 'Sat', 'Sun')   qualitativa   \n",
       "\n",
       "    subtipo  \n",
       "0  continua  \n",
       "1  continua  \n",
       "2   nominal  \n",
       "3   nominal  "
      ]
     },
     "execution_count": 53,
     "metadata": {},
     "output_type": "execute_result"
    }
   ],
   "source": [
    "df_dict_tips = pd.DataFrame([\n",
    "    {\n",
    "        \"variavel\": \"total_bill\",\n",
    "        \"descricao\": \"Valor da compra em unidades monetárias\",\n",
    "        \"tipo\": \"quantitativa\",\n",
    "        \"subtipo\": \"continua\",\n",
    "    },{\n",
    "        \"variavel\": \"tip\",\n",
    "        \"descricao\": \"Valor da gorjeta em unidades monetárias\",\n",
    "        \"tipo\": \"quantitativa\",\n",
    "        \"subtipo\": \"continua\",\n",
    "    },{\n",
    "        \"variavel\": \"sex\",\n",
    "        \"descricao\": \"Sexo da pessoa ('Male', 'Female')\",\n",
    "        \"tipo\": \"qualitativa\",\n",
    "        \"subtipo\": \"nominal\",\n",
    "    },{\n",
    "        \"variavel\": \"day\",\n",
    "        \"descricao\": \"Dias da semana ('Thur', 'Fri', 'Sat', 'Sun')\",\n",
    "        \"tipo\": \"qualitativa\",\n",
    "        \"subtipo\": \"nominal\",\n",
    "    }\n",
    "])\n",
    "\n",
    "df_dict_tips"
   ]
  },
  {
   "cell_type": "markdown",
   "metadata": {},
   "source": [
    "### 1.2.2. Titanic"
   ]
  },
  {
   "cell_type": "code",
   "execution_count": 54,
   "metadata": {},
   "outputs": [
    {
     "data": {
      "text/html": [
       "<div>\n",
       "<style scoped>\n",
       "    .dataframe tbody tr th:only-of-type {\n",
       "        vertical-align: middle;\n",
       "    }\n",
       "\n",
       "    .dataframe tbody tr th {\n",
       "        vertical-align: top;\n",
       "    }\n",
       "\n",
       "    .dataframe thead th {\n",
       "        text-align: right;\n",
       "    }\n",
       "</style>\n",
       "<table border=\"1\" class=\"dataframe\">\n",
       "  <thead>\n",
       "    <tr style=\"text-align: right;\">\n",
       "      <th></th>\n",
       "      <th>variavel</th>\n",
       "      <th>descricao</th>\n",
       "      <th>tipo</th>\n",
       "      <th>subtipo</th>\n",
       "    </tr>\n",
       "  </thead>\n",
       "  <tbody>\n",
       "    <tr>\n",
       "      <th>0</th>\n",
       "      <td>who</td>\n",
       "      <td>Gênero do Passageiro ('man', 'woman')</td>\n",
       "      <td>qualitativa</td>\n",
       "      <td>nominal</td>\n",
       "    </tr>\n",
       "    <tr>\n",
       "      <th>1</th>\n",
       "      <td>class</td>\n",
       "      <td>Classe social do passageiro ('First', 'Second'...</td>\n",
       "      <td>qualitativa</td>\n",
       "      <td>nominal</td>\n",
       "    </tr>\n",
       "    <tr>\n",
       "      <th>2</th>\n",
       "      <td>fare</td>\n",
       "      <td>Valor da passagem em Libras</td>\n",
       "      <td>quantitativa</td>\n",
       "      <td>discreta</td>\n",
       "    </tr>\n",
       "    <tr>\n",
       "      <th>3</th>\n",
       "      <td>age</td>\n",
       "      <td>Idade do passageiro em anos</td>\n",
       "      <td>quantitativa</td>\n",
       "      <td>discreta</td>\n",
       "    </tr>\n",
       "  </tbody>\n",
       "</table>\n",
       "</div>"
      ],
      "text/plain": [
       "  variavel                                          descricao          tipo  \\\n",
       "0      who              Gênero do Passageiro ('man', 'woman')   qualitativa   \n",
       "1    class  Classe social do passageiro ('First', 'Second'...   qualitativa   \n",
       "2     fare                        Valor da passagem em Libras  quantitativa   \n",
       "3      age                        Idade do passageiro em anos  quantitativa   \n",
       "\n",
       "    subtipo  \n",
       "0   nominal  \n",
       "1   nominal  \n",
       "2  discreta  \n",
       "3  discreta  "
      ]
     },
     "execution_count": 54,
     "metadata": {},
     "output_type": "execute_result"
    }
   ],
   "source": [
    "df_dict_titanic = pd.DataFrame([\n",
    "    {\n",
    "        \"variavel\": \"who\",\n",
    "        \"descricao\": \"Gênero do Passageiro ('man', 'woman')\",\n",
    "        \"tipo\": \"qualitativa\",\n",
    "        \"subtipo\": \"nominal\",\n",
    "    },{\n",
    "        \"variavel\": \"class\",\n",
    "        \"descricao\": \"Classe social do passageiro ('First', 'Second', 'Third')\",\n",
    "        \"tipo\": \"qualitativa\",\n",
    "        \"subtipo\": \"nominal\",\n",
    "    },{\n",
    "        \"variavel\": \"fare\",\n",
    "        \"descricao\": \"Valor da passagem em Libras\",\n",
    "        \"tipo\": \"quantitativa\",\n",
    "        \"subtipo\": \"discreta\",\n",
    "    },{\n",
    "        \"variavel\": \"age\",\n",
    "        \"descricao\": \"Idade do passageiro em anos\",\n",
    "        \"tipo\": \"quantitativa\",\n",
    "        \"subtipo\": \"discreta\",\n",
    "    }\n",
    "])\n",
    "\n",
    "df_dict_titanic"
   ]
  },
  {
   "cell_type": "markdown",
   "metadata": {},
   "source": [
    "## 1.3. Estatísticas dos Dados"
   ]
  },
  {
   "cell_type": "markdown",
   "metadata": {},
   "source": [
    "### 1.3.1. Tips"
   ]
  },
  {
   "cell_type": "markdown",
   "metadata": {},
   "source": [
    "#### 1.3.1.1. Variáveis Qualitativas"
   ]
  },
  {
   "cell_type": "code",
   "execution_count": 77,
   "metadata": {},
   "outputs": [
    {
     "name": "stdout",
     "output_type": "stream",
     "text": [
      "    sex  day\n",
      "0  Male  Sat\n"
     ]
    }
   ],
   "source": [
    "df_dict_tips.query('tipo == \"qualitativa\"').variavel.to_list()\n",
    "\n",
    "qualitative_vars_tips = ['sex', 'day']\n",
    "moda_tips = df_tips[qualitative_vars_tips].mode()\n",
    "print(moda_tips)"
   ]
  },
  {
   "cell_type": "markdown",
   "metadata": {},
   "source": [
    "#### 1.3.1.2. Estatísticas das Variáveis Qualitativas"
   ]
  },
  {
   "cell_type": "code",
   "execution_count": 78,
   "metadata": {},
   "outputs": [
    {
     "name": "stdout",
     "output_type": "stream",
     "text": [
      "       total_bill        tip       size\n",
      "count   87.000000  87.000000  87.000000\n",
      "mean    18.056897   2.833448   2.459770\n",
      "std      8.009209   1.159495   0.937644\n",
      "min      3.070000   1.000000   1.000000\n",
      "25%     12.750000   2.000000   2.000000\n",
      "50%     16.400000   2.750000   2.000000\n",
      "75%     21.520000   3.500000   3.000000\n",
      "max     44.300000   6.500000   6.000000 \n",
      "\n",
      "       total_bill         tip        size\n",
      "count  157.000000  157.000000  157.000000\n",
      "mean    20.744076    3.089618    2.630573\n",
      "std      9.246469    1.489102    0.955997\n",
      "min      7.250000    1.000000    1.000000\n",
      "25%     14.000000    2.000000    2.000000\n",
      "50%     18.350000    3.000000    2.000000\n",
      "75%     24.710000    3.760000    3.000000\n",
      "max     50.810000   10.000000    6.000000 \n",
      "\n",
      "       total_bill        tip       size\n",
      "count   76.000000  76.000000  76.000000\n",
      "mean    21.410000   3.255132   2.842105\n",
      "std      8.832122   1.234880   1.007341\n",
      "min      7.250000   1.010000   2.000000\n",
      "25%     14.987500   2.037500   2.000000\n",
      "50%     19.630000   3.150000   2.000000\n",
      "75%     25.597500   4.000000   4.000000\n",
      "max     48.170000   6.500000   6.000000 \n",
      "\n",
      "       total_bill        tip       size\n",
      "count   87.000000  87.000000  87.000000\n",
      "mean    20.441379   2.993103   2.517241\n",
      "std      9.480419   1.631014   0.819275\n",
      "min      3.070000   1.000000   1.000000\n",
      "25%     13.905000   2.000000   2.000000\n",
      "50%     18.240000   2.750000   2.000000\n",
      "75%     24.740000   3.370000   3.000000\n",
      "max     50.810000  10.000000   5.000000 \n",
      "\n",
      "       total_bill        tip       size\n",
      "count   62.000000  62.000000  62.000000\n",
      "mean    17.682742   2.771452   2.451613\n",
      "std      7.886170   1.240223   1.066285\n",
      "min      7.510000   1.250000   1.000000\n",
      "25%     12.442500   2.000000   2.000000\n",
      "50%     16.200000   2.305000   2.000000\n",
      "75%     20.155000   3.362500   2.000000\n",
      "max     43.110000   6.700000   6.000000 \n",
      "\n",
      "       total_bill        tip       size\n",
      "count   19.000000  19.000000  19.000000\n",
      "mean    17.151579   2.734737   2.105263\n",
      "std      8.302660   1.019577   0.567131\n",
      "min      5.750000   1.000000   1.000000\n",
      "25%     12.095000   1.960000   2.000000\n",
      "50%     15.380000   3.000000   2.000000\n",
      "75%     21.750000   3.365000   2.000000\n",
      "max     40.170000   4.730000   4.000000 \n",
      "\n"
     ]
    }
   ],
   "source": [
    "for variavel in qualitative_vars_tips:\n",
    "    unique_vars = df_tips[variavel].unique()\n",
    "\n",
    "    for var in unique_vars:\n",
    "        subamostra = df_tips[df_tips[variavel] == var]\n",
    "        print(subamostra.describe(), \"\\n\")"
   ]
  },
  {
   "cell_type": "markdown",
   "metadata": {},
   "source": [
    "#### 1.3.1.3. Variáveis Quantitativas"
   ]
  },
  {
   "cell_type": "code",
   "execution_count": 79,
   "metadata": {},
   "outputs": [
    {
     "data": {
      "text/html": [
       "<div>\n",
       "<style scoped>\n",
       "    .dataframe tbody tr th:only-of-type {\n",
       "        vertical-align: middle;\n",
       "    }\n",
       "\n",
       "    .dataframe tbody tr th {\n",
       "        vertical-align: top;\n",
       "    }\n",
       "\n",
       "    .dataframe thead th {\n",
       "        text-align: right;\n",
       "    }\n",
       "</style>\n",
       "<table border=\"1\" class=\"dataframe\">\n",
       "  <thead>\n",
       "    <tr style=\"text-align: right;\">\n",
       "      <th></th>\n",
       "      <th>total_bill</th>\n",
       "      <th>tip</th>\n",
       "      <th>size</th>\n",
       "    </tr>\n",
       "  </thead>\n",
       "  <tbody>\n",
       "    <tr>\n",
       "      <th>count</th>\n",
       "      <td>244.000000</td>\n",
       "      <td>244.000000</td>\n",
       "      <td>244.000000</td>\n",
       "    </tr>\n",
       "    <tr>\n",
       "      <th>mean</th>\n",
       "      <td>19.785943</td>\n",
       "      <td>2.998279</td>\n",
       "      <td>2.569672</td>\n",
       "    </tr>\n",
       "    <tr>\n",
       "      <th>std</th>\n",
       "      <td>8.902412</td>\n",
       "      <td>1.383638</td>\n",
       "      <td>0.951100</td>\n",
       "    </tr>\n",
       "    <tr>\n",
       "      <th>min</th>\n",
       "      <td>3.070000</td>\n",
       "      <td>1.000000</td>\n",
       "      <td>1.000000</td>\n",
       "    </tr>\n",
       "    <tr>\n",
       "      <th>25%</th>\n",
       "      <td>13.347500</td>\n",
       "      <td>2.000000</td>\n",
       "      <td>2.000000</td>\n",
       "    </tr>\n",
       "    <tr>\n",
       "      <th>50%</th>\n",
       "      <td>17.795000</td>\n",
       "      <td>2.900000</td>\n",
       "      <td>2.000000</td>\n",
       "    </tr>\n",
       "    <tr>\n",
       "      <th>75%</th>\n",
       "      <td>24.127500</td>\n",
       "      <td>3.562500</td>\n",
       "      <td>3.000000</td>\n",
       "    </tr>\n",
       "    <tr>\n",
       "      <th>max</th>\n",
       "      <td>50.810000</td>\n",
       "      <td>10.000000</td>\n",
       "      <td>6.000000</td>\n",
       "    </tr>\n",
       "  </tbody>\n",
       "</table>\n",
       "</div>"
      ],
      "text/plain": [
       "       total_bill         tip        size\n",
       "count  244.000000  244.000000  244.000000\n",
       "mean    19.785943    2.998279    2.569672\n",
       "std      8.902412    1.383638    0.951100\n",
       "min      3.070000    1.000000    1.000000\n",
       "25%     13.347500    2.000000    2.000000\n",
       "50%     17.795000    2.900000    2.000000\n",
       "75%     24.127500    3.562500    3.000000\n",
       "max     50.810000   10.000000    6.000000"
      ]
     },
     "execution_count": 79,
     "metadata": {},
     "output_type": "execute_result"
    }
   ],
   "source": [
    "df_tips.describe()"
   ]
  },
  {
   "cell_type": "markdown",
   "metadata": {},
   "source": [
    "### 1.3.2. Titanic"
   ]
  },
  {
   "cell_type": "markdown",
   "metadata": {},
   "source": [
    "#### 1.3.2.1. Variáveis Qualitativas"
   ]
  },
  {
   "cell_type": "code",
   "execution_count": 70,
   "metadata": {},
   "outputs": [
    {
     "name": "stdout",
     "output_type": "stream",
     "text": [
      "   who  class\n",
      "0  man  Third\n"
     ]
    }
   ],
   "source": [
    "df_dict_titanic.query('tipo == \"qualitativa\"').variavel.to_list()\n",
    "\n",
    "qualitative_vars_titanic = ['who', 'class']\n",
    "moda_titanic = df_titanic[qualitative_vars_titanic].mode()\n",
    "print(moda_titanic)"
   ]
  },
  {
   "cell_type": "markdown",
   "metadata": {},
   "source": [
    "#### 1.3.2.2. Estatísticas das Variáveis Qualitativas"
   ]
  },
  {
   "cell_type": "code",
   "execution_count": 71,
   "metadata": {},
   "outputs": [
    {
     "name": "stdout",
     "output_type": "stream",
     "text": [
      "         survived      pclass         age       sibsp       parch        fare\n",
      "count  537.000000  537.000000  413.000000  537.000000  537.000000  537.000000\n",
      "mean     0.163873    2.372439   33.173123    0.296089    0.152700   24.864182\n",
      "std      0.370506    0.823525   12.906908    0.850726    0.528089   44.021339\n",
      "min      0.000000    1.000000   16.000000    0.000000    0.000000    0.000000\n",
      "25%      0.000000    2.000000   23.000000    0.000000    0.000000    7.854200\n",
      "50%      0.000000    3.000000   30.000000    0.000000    0.000000    9.500000\n",
      "75%      0.000000    3.000000   40.000000    0.000000    0.000000   26.387500\n",
      "max      1.000000    3.000000   80.000000    8.000000    5.000000  512.329200 \n",
      "\n",
      "         survived      pclass         age       sibsp       parch        fare\n",
      "count  271.000000  271.000000  218.000000  271.000000  271.000000  271.000000\n",
      "mean     0.756458    2.084871   32.000000    0.601476    0.564576   46.570711\n",
      "std      0.430014    0.867196   11.495441    1.093685    1.033907   60.318995\n",
      "min      0.000000    1.000000   16.000000    0.000000    0.000000    6.750000\n",
      "25%      1.000000    1.000000   23.000000    0.000000    0.000000   10.500000\n",
      "50%      1.000000    2.000000   30.000000    0.000000    0.000000   23.250000\n",
      "75%      1.000000    3.000000   39.000000    1.000000    1.000000   65.000000\n",
      "max      1.000000    3.000000   63.000000    8.000000    6.000000  512.329200 \n",
      "\n",
      "        survived     pclass        age      sibsp      parch        fare\n",
      "count  83.000000  83.000000  83.000000  83.000000  83.000000   83.000000\n",
      "mean    0.590361   2.626506   6.369518   1.734940   1.265060   32.785795\n",
      "std     0.494757   0.619024   4.729063   1.638592   0.682255   33.466438\n",
      "min     0.000000   1.000000   0.420000   0.000000   0.000000    7.225000\n",
      "25%     0.000000   2.000000   2.000000   0.000000   1.000000   15.900000\n",
      "50%     1.000000   3.000000   5.000000   1.000000   1.000000   26.250000\n",
      "75%     1.000000   3.000000   9.500000   3.000000   2.000000   32.193750\n",
      "max     1.000000   3.000000  15.000000   5.000000   2.000000  211.337500 \n",
      "\n",
      "         survived  pclass         age       sibsp       parch        fare\n",
      "count  491.000000   491.0  355.000000  491.000000  491.000000  491.000000\n",
      "mean     0.242363     3.0   25.140620    0.615071    0.393075   13.675550\n",
      "std      0.428949     0.0   12.495398    1.374883    0.888861   11.778142\n",
      "min      0.000000     3.0    0.420000    0.000000    0.000000    0.000000\n",
      "25%      0.000000     3.0   18.000000    0.000000    0.000000    7.750000\n",
      "50%      0.000000     3.0   24.000000    0.000000    0.000000    8.050000\n",
      "75%      0.000000     3.0   32.000000    1.000000    0.000000   15.500000\n",
      "max      1.000000     3.0   74.000000    8.000000    6.000000   69.550000 \n",
      "\n",
      "         survived  pclass         age       sibsp       parch        fare\n",
      "count  216.000000   216.0  186.000000  216.000000  216.000000  216.000000\n",
      "mean     0.629630     1.0   38.233441    0.416667    0.356481   84.154687\n",
      "std      0.484026     0.0   14.802856    0.611898    0.693997   78.380373\n",
      "min      0.000000     1.0    0.920000    0.000000    0.000000    0.000000\n",
      "25%      0.000000     1.0   27.000000    0.000000    0.000000   30.923950\n",
      "50%      1.000000     1.0   37.000000    0.000000    0.000000   60.287500\n",
      "75%      1.000000     1.0   49.000000    1.000000    0.000000   93.500000\n",
      "max      1.000000     1.0   80.000000    3.000000    4.000000  512.329200 \n",
      "\n",
      "         survived  pclass         age       sibsp       parch        fare\n",
      "count  184.000000   184.0  173.000000  184.000000  184.000000  184.000000\n",
      "mean     0.472826     2.0   29.877630    0.402174    0.380435   20.662183\n",
      "std      0.500623     0.0   14.001077    0.601633    0.690963   13.417399\n",
      "min      0.000000     2.0    0.670000    0.000000    0.000000    0.000000\n",
      "25%      0.000000     2.0   23.000000    0.000000    0.000000   13.000000\n",
      "50%      0.000000     2.0   29.000000    0.000000    0.000000   14.250000\n",
      "75%      1.000000     2.0   36.000000    1.000000    1.000000   26.000000\n",
      "max      1.000000     2.0   70.000000    3.000000    3.000000   73.500000 \n",
      "\n"
     ]
    }
   ],
   "source": [
    "for variavel in qualitative_vars_titanic:\n",
    "    unique_vars = df_titanic[variavel].unique()\n",
    "\n",
    "    for var in unique_vars:\n",
    "        subamostra = df_titanic[df_titanic[variavel] == var]\n",
    "        print(subamostra.describe(), \"\\n\")"
   ]
  },
  {
   "cell_type": "markdown",
   "metadata": {},
   "source": [
    "#### 1.3.2.3. Variáveis Quantitativas"
   ]
  },
  {
   "cell_type": "code",
   "execution_count": 72,
   "metadata": {},
   "outputs": [
    {
     "data": {
      "text/html": [
       "<div>\n",
       "<style scoped>\n",
       "    .dataframe tbody tr th:only-of-type {\n",
       "        vertical-align: middle;\n",
       "    }\n",
       "\n",
       "    .dataframe tbody tr th {\n",
       "        vertical-align: top;\n",
       "    }\n",
       "\n",
       "    .dataframe thead th {\n",
       "        text-align: right;\n",
       "    }\n",
       "</style>\n",
       "<table border=\"1\" class=\"dataframe\">\n",
       "  <thead>\n",
       "    <tr style=\"text-align: right;\">\n",
       "      <th></th>\n",
       "      <th>survived</th>\n",
       "      <th>pclass</th>\n",
       "      <th>age</th>\n",
       "      <th>sibsp</th>\n",
       "      <th>parch</th>\n",
       "      <th>fare</th>\n",
       "    </tr>\n",
       "  </thead>\n",
       "  <tbody>\n",
       "    <tr>\n",
       "      <th>count</th>\n",
       "      <td>891.000000</td>\n",
       "      <td>891.000000</td>\n",
       "      <td>714.000000</td>\n",
       "      <td>891.000000</td>\n",
       "      <td>891.000000</td>\n",
       "      <td>891.000000</td>\n",
       "    </tr>\n",
       "    <tr>\n",
       "      <th>mean</th>\n",
       "      <td>0.383838</td>\n",
       "      <td>2.308642</td>\n",
       "      <td>29.699118</td>\n",
       "      <td>0.523008</td>\n",
       "      <td>0.381594</td>\n",
       "      <td>32.204208</td>\n",
       "    </tr>\n",
       "    <tr>\n",
       "      <th>std</th>\n",
       "      <td>0.486592</td>\n",
       "      <td>0.836071</td>\n",
       "      <td>14.526497</td>\n",
       "      <td>1.102743</td>\n",
       "      <td>0.806057</td>\n",
       "      <td>49.693429</td>\n",
       "    </tr>\n",
       "    <tr>\n",
       "      <th>min</th>\n",
       "      <td>0.000000</td>\n",
       "      <td>1.000000</td>\n",
       "      <td>0.420000</td>\n",
       "      <td>0.000000</td>\n",
       "      <td>0.000000</td>\n",
       "      <td>0.000000</td>\n",
       "    </tr>\n",
       "    <tr>\n",
       "      <th>25%</th>\n",
       "      <td>0.000000</td>\n",
       "      <td>2.000000</td>\n",
       "      <td>20.125000</td>\n",
       "      <td>0.000000</td>\n",
       "      <td>0.000000</td>\n",
       "      <td>7.910400</td>\n",
       "    </tr>\n",
       "    <tr>\n",
       "      <th>50%</th>\n",
       "      <td>0.000000</td>\n",
       "      <td>3.000000</td>\n",
       "      <td>28.000000</td>\n",
       "      <td>0.000000</td>\n",
       "      <td>0.000000</td>\n",
       "      <td>14.454200</td>\n",
       "    </tr>\n",
       "    <tr>\n",
       "      <th>75%</th>\n",
       "      <td>1.000000</td>\n",
       "      <td>3.000000</td>\n",
       "      <td>38.000000</td>\n",
       "      <td>1.000000</td>\n",
       "      <td>0.000000</td>\n",
       "      <td>31.000000</td>\n",
       "    </tr>\n",
       "    <tr>\n",
       "      <th>max</th>\n",
       "      <td>1.000000</td>\n",
       "      <td>3.000000</td>\n",
       "      <td>80.000000</td>\n",
       "      <td>8.000000</td>\n",
       "      <td>6.000000</td>\n",
       "      <td>512.329200</td>\n",
       "    </tr>\n",
       "  </tbody>\n",
       "</table>\n",
       "</div>"
      ],
      "text/plain": [
       "         survived      pclass         age       sibsp       parch        fare\n",
       "count  891.000000  891.000000  714.000000  891.000000  891.000000  891.000000\n",
       "mean     0.383838    2.308642   29.699118    0.523008    0.381594   32.204208\n",
       "std      0.486592    0.836071   14.526497    1.102743    0.806057   49.693429\n",
       "min      0.000000    1.000000    0.420000    0.000000    0.000000    0.000000\n",
       "25%      0.000000    2.000000   20.125000    0.000000    0.000000    7.910400\n",
       "50%      0.000000    3.000000   28.000000    0.000000    0.000000   14.454200\n",
       "75%      1.000000    3.000000   38.000000    1.000000    0.000000   31.000000\n",
       "max      1.000000    3.000000   80.000000    8.000000    6.000000  512.329200"
      ]
     },
     "execution_count": 72,
     "metadata": {},
     "output_type": "execute_result"
    }
   ],
   "source": [
    "\n",
    "df_titanic.describe()\n",
    "\n",
    "#df_dict_titanic.query('tipo == \"quantitativa\"').variavel.to_list()\n",
    "\n",
    "#quantitative_vars = ['fare', 'age']\n",
    "\n",
    "#media = df[quantitative_vars].mean()\n",
    "#desvio = df[quantitative_vars].std()\n",
    "#mediana = media = df[quantitative_vars].min()\n",
    "\n",
    "#print(\"Média:\\n\", media)\n",
    "#print(\"\\nDesvio Padrão:\\n\", desvio)\n",
    "#print(\"\\nMediana:\\n\", mediana)"
   ]
  }
 ],
 "metadata": {
  "kernelspec": {
   "display_name": "Python 3.8.10 ('.venv': poetry)",
   "language": "python",
   "name": "python3"
  },
  "language_info": {
   "codemirror_mode": {
    "name": "ipython",
    "version": 3
   },
   "file_extension": ".py",
   "mimetype": "text/x-python",
   "name": "python",
   "nbconvert_exporter": "python",
   "pygments_lexer": "ipython3",
   "version": "3.10.11"
  },
  "orig_nbformat": 4,
  "vscode": {
   "interpreter": {
    "hash": "eb3c3305d8b111f0102f4f519c5f17abd113fe74db6752c355e994a9008815ef"
   }
  }
 },
 "nbformat": 4,
 "nbformat_minor": 2
}
